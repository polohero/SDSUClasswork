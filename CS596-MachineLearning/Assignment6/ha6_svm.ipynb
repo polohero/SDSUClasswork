{
 "cells": [
  {
   "cell_type": "markdown",
   "metadata": {},
   "source": [
    "# CS596 Machine Learning \n",
    "# Homework Assignment 6 (Part 3): <br>Support vector machines (SVM) applied on image classification\n",
    "\n",
    "### Due 11:59 pm, Friday, 12/14/2018\n",
    "\n",
    "**Total credits: 5**\n",
    "\n",
    "In Part3 of HA6, we will play with SVM classifiers provided by `sklearn` package. We will see how SVM models perform on the image classification task on sign language data, and a non-linearly separable toy data. We will also plot the data points, while distinguishing support vectors from others.\n",
    "\n",
    "You do not to worry about the underlying implementations of SVM, e.g. Lagrangian, quadratic programming etc. `sklearn` handles these for us.\n",
    "\n",
    "Check out the __[documentation](https://scikit-learn.org/stable/modules/generated/sklearn.svm.SVC.html)__ for `sklearn.svm.SVC` when you need help."
   ]
  },
  {
   "cell_type": "code",
   "execution_count": 15,
   "metadata": {},
   "outputs": [],
   "source": [
    "import numpy as np\n",
    "import matplotlib.pyplot as plt\n",
    "from sklearn import svm\n",
    "from sklearn.decomposition import PCA\n",
    "from sklearn.datasets import make_moons\n",
    "\n",
    "%matplotlib inline"
   ]
  },
  {
   "cell_type": "markdown",
   "metadata": {},
   "source": [
    "## Load data"
   ]
  },
  {
   "cell_type": "code",
   "execution_count": 16,
   "metadata": {},
   "outputs": [
    {
     "name": "stdout",
     "output_type": "stream",
     "text": [
      "X_train shape: (327, 4096)\n",
      "Y_train shape: (327,)\n",
      "X_test shape: (82, 4096)\n",
      "Y_test shape: (82,)\n"
     ]
    }
   ],
   "source": [
    "X_train_all = np.load(open('X_train.npy', 'rb'))\n",
    "Y_train_all = np.load(open('Y_train.npy', 'rb'))\n",
    "X_test_all = np.load(open('X_test.npy', 'rb'))\n",
    "Y_test_all = np.load(open('Y_test.npy', 'rb'))\n",
    "\n",
    "# print(X_train_all.shape)\n",
    "# print(Y_train_all.shape)\n",
    "# print(X_test_all.shape)\n",
    "# print(Y_test_all.shape)\n",
    "# print(Y_test_all[40,]) # 0\n",
    "# print(Y_test_all[41,]) # 1\n",
    "# print(Y_test_all[82,]) # 2\n",
    "\n",
    "X_train1 = X_train_all[:163, :]\n",
    "X_train2 = X_train_all[163:327, :]\n",
    "X_train = np.concatenate((X_train1, X_train2), axis=0)\n",
    "X_train = X_train.reshape(X_train.shape[0], -1)\n",
    "\n",
    "Y_train1 = Y_train_all[:163, :]\n",
    "Y_train2 = Y_train_all[163:327, :]\n",
    "Y_train = np.concatenate((Y_train1, Y_train2), axis=0)\n",
    "Y_train = np.argmax(Y_train, axis=1)\n",
    "\n",
    "X_test1 = X_test_all[:41, :]\n",
    "X_test2 = X_test_all[41:82, :]\n",
    "X_test = np.concatenate((X_test1, X_test2), axis=0)\n",
    "X_test = X_test.reshape(X_test.shape[0], -1)\n",
    "\n",
    "Y_test1 = Y_test_all[:41, :]\n",
    "Y_test2 = Y_test_all[41:82, :]\n",
    "Y_test = np.concatenate((Y_test1, Y_test2), axis=0)\n",
    "Y_test = np.argmax(Y_test, axis=1)\n",
    "\n",
    "print('X_train shape:', X_train.shape)\n",
    "print('Y_train shape:', Y_train.shape)\n",
    "print('X_test shape:', X_test.shape)\n",
    "print('Y_test shape:', Y_test.shape)"
   ]
  },
  {
   "cell_type": "markdown",
   "metadata": {},
   "source": [
    "## Task 3.1 SVM for image classification (linear kernel)\n",
    "**0.5 credit**\n",
    "\n",
    "Define the classifier by calling `svm.SVC()`, with `kernel` set to 'linear', and all other arguments with default values. Call `fit()` to train the classifier on X_train, Y_train. Call `score()` on X_test, Y_test to compute the prediction accuracy on test set."
   ]
  },
  {
   "cell_type": "code",
   "execution_count": 17,
   "metadata": {},
   "outputs": [
    {
     "name": "stdout",
     "output_type": "stream",
     "text": [
      "Accuracy on test data: 0.975609756097561\n"
     ]
    }
   ],
   "source": [
    "### START TODO ###\n",
    "clf = svm.SVC(kernel='linear')\n",
    "clf.fit( X_train, Y_train)\n",
    "acc = clf.score(X_test, Y_test)\n",
    "### END TODO ###\n",
    "\n",
    "print('Accuracy on test data:', acc)"
   ]
  },
  {
   "cell_type": "markdown",
   "metadata": {},
   "source": [
    "### Expected output\n",
    "|&nbsp;|&nbsp; |          \n",
    "|--|--|\n",
    "|**Accuracy on test data:**|0.975609756097561|\n",
    "\n",
    "***\n",
    "\n",
    "## Task 3.2 Plot support vectors and other data points\n",
    "**1 credit**\n",
    "\n",
    "It will be interesting to see how the support vectors distribute among data points. Here we are plotting the projections of data onto the first two principal components. PCA is done using `sklearn`.\n",
    "\n",
    "The indices of support vectors are stored in `clf.support_`. The number of support vectors for all classes are stored in `clf.n_support_`. Therefore, the indices of SVs for $y=0$ class are in `clf.support_[:clf.n_support_]`."
   ]
  },
  {
   "cell_type": "code",
   "execution_count": 18,
   "metadata": {},
   "outputs": [
    {
     "data": {
      "image/png": "[encoded data removed]",
      "text/plain": [
       "<Figure size 576x576 with 1 Axes>"
      ]
     },
     "metadata": {
      "needs_background": "light"
     },
     "output_type": "display_data"
    }
   ],
   "source": [
    "# Plot data and support vectors\n",
    "\n",
    "# PCA projection\n",
    "pca = PCA(n_components=2)\n",
    "pca.fit(X_train)\n",
    "X_proj = pca.transform(X_train)\n",
    "\n",
    "# Start plotting\n",
    "fig = plt.figure(figsize=(8,8))\n",
    "\n",
    "# Plot data points\n",
    "plt.scatter(X_proj[:163, 0], \n",
    "            X_proj[:163, 1], c='dodgerblue')\n",
    "plt.scatter(X_proj[163:327, 0], \n",
    "            X_proj[163:327, 1], c='salmon')\n",
    "\n",
    "### START TODO ###\n",
    "# Plot support vectors (the darker colors will overlap those points that are already plotted)\n",
    "plt.scatter(X_proj[clf.support_[0:clf.n_support_[0]],0], X_proj[clf.support_[0:clf.n_support_[0]],1], c='darkblue')\n",
    "plt.scatter(X_proj[clf.support_[clf.n_support_[0]:],0], X_proj[clf.support_[clf.n_support_[0]:],1], c='darkred')\n",
    "### END TODO ###\n",
    "\n",
    "plt.show()"
   ]
  },
  {
   "cell_type": "markdown",
   "metadata": {},
   "source": [
    "### Expected output\n",
    "<img src=\"sign_lang_SVs.png\">\n",
    "\n",
    "***\n",
    "\n",
    "## Task 3.3 Search the optimal C\n",
    "**1.5 credit**\n",
    "\n",
    "Search the C that gives highest performance on test set. Refer to the documentation for the correct way of using RBF and polynomial kernels (set argument `gamma='scale'`)."
   ]
  },
  {
   "cell_type": "code",
   "execution_count": 19,
   "metadata": {},
   "outputs": [
    {
     "name": "stdout",
     "output_type": "stream",
     "text": [
      "Linear kernel\n",
      "C = 0.0625, SV# = 71, test accuracy = 0.975609756097561\n",
      "C = 0.125, SV# = 71, test accuracy = 0.975609756097561\n",
      "C = 0.25, SV# = 71, test accuracy = 0.975609756097561\n",
      "C = 0.5, SV# = 71, test accuracy = 0.975609756097561\n",
      "C = 1.0, SV# = 71, test accuracy = 0.975609756097561\n",
      "C = 2.0, SV# = 71, test accuracy = 0.975609756097561\n",
      "C = 4.0, SV# = 71, test accuracy = 0.975609756097561\n",
      "C = 8.0, SV# = 71, test accuracy = 0.975609756097561\n",
      "C = 16.0, SV# = 71, test accuracy = 0.975609756097561\n",
      "\n",
      "RBF kernel\n",
      "C = 0.0625, SV# = 326, test accuracy = 0.7439024390243902\n",
      "C = 0.125, SV# = 305, test accuracy = 0.9390243902439024\n",
      "C = 0.25, SV# = 241, test accuracy = 0.9390243902439024\n",
      "C = 0.5, SV# = 182, test accuracy = 0.9390243902439024\n",
      "C = 1.0, SV# = 138, test accuracy = 0.9512195121951219\n",
      "C = 2.0, SV# = 108, test accuracy = 0.975609756097561\n",
      "C = 4.0, SV# = 87, test accuracy = 0.9878048780487805\n",
      "C = 8.0, SV# = 75, test accuracy = 0.9878048780487805\n",
      "C = 16.0, SV# = 78, test accuracy = 0.9878048780487805\n",
      "\n",
      "Polynomial kernel\n",
      "C = 0.0625, SV# = 138, test accuracy = 0.9634146341463414\n",
      "C = 0.125, SV# = 109, test accuracy = 0.9878048780487805\n",
      "C = 0.25, SV# = 87, test accuracy = 0.9878048780487805\n",
      "C = 0.5, SV# = 73, test accuracy = 0.975609756097561\n",
      "C = 1.0, SV# = 65, test accuracy = 0.975609756097561\n",
      "C = 2.0, SV# = 67, test accuracy = 0.975609756097561\n",
      "C = 4.0, SV# = 69, test accuracy = 0.975609756097561\n",
      "C = 8.0, SV# = 69, test accuracy = 0.975609756097561\n",
      "C = 16.0, SV# = 69, test accuracy = 0.975609756097561\n"
     ]
    }
   ],
   "source": [
    "# Linear kernel\n",
    "print('Linear kernel')\n",
    "for c_val in np.power(2, np.arange(-4,5,1), dtype=np.float64):\n",
    "    ### START TODO ###\n",
    "    clf2 = svm.SVC(c_val, kernel='linear', gamma='scale')\n",
    "    clf2.fit( X_train, Y_train)\n",
    "    acc = clf2.score(X_test, Y_test)\n",
    "    ### START TODO ###\n",
    "    print('C = {}, SV# = {}, test accuracy = {}'.format(c_val, len(clf2.support_), acc))\n",
    "\n",
    "    \n",
    "# RBF kernel\n",
    "print()\n",
    "print('RBF kernel')\n",
    "for c_val in np.power(2, np.arange(-4,5,1), dtype=np.float64):\n",
    "    ### START TODO ###\n",
    "    clf3 = svm.SVC(c_val, kernel='rbf', gamma='scale')\n",
    "    clf3.fit(X_train, Y_train)\n",
    "    acc = clf3.score(X_test, Y_test)\n",
    "    ### START TODO ###\n",
    "    print('C = {}, SV# = {}, test accuracy = {}'.format(c_val, len(clf3.support_), acc))\n",
    "\n",
    "\n",
    "# Polynomial kernel\n",
    "print()\n",
    "print('Polynomial kernel')\n",
    "for c_val in np.power(2, np.arange(-4,5,1), dtype=np.float64):\n",
    "    ### START TODO ###\n",
    "    clf4 = svm.SVC(c_val, kernel='poly', gamma='scale')\n",
    "    clf4.fit(X_train, Y_train)\n",
    "    acc = clf4.score(X_test, Y_test)\n",
    "    ### START TODO ###\n",
    "    print('C = {}, SV# = {}, test accuracy = {}'.format(c_val, len(clf4.support_), acc))"
   ]
  },
  {
   "cell_type": "markdown",
   "metadata": {},
   "source": [
    "### Expected output\n",
    "\n",
    "|Linear kernel|&nbsp;|          \n",
    "|--|--|\n",
    "C = 0.0625, SV# = 71, test accuracy = 0.975609756097561\n",
    "C = 0.125, SV# = 71, test accuracy = 0.975609756097561\n",
    "C = 0.25, SV# = 71, test accuracy = 0.975609756097561\n",
    "C = 0.5, SV# = 71, test accuracy = 0.975609756097561\n",
    "C = 1.0, SV# = 71, test accuracy = 0.975609756097561\n",
    "C = 2.0, SV# = 71, test accuracy = 0.975609756097561\n",
    "C = 4.0, SV# = 71, test accuracy = 0.975609756097561\n",
    "C = 8.0, SV# = 71, test accuracy = 0.975609756097561\n",
    "C = 16.0, SV# = 71, test accuracy = 0.975609756097561\n",
    "\n",
    "|RBF kernel|&nbsp;|          \n",
    "|--|--|\n",
    "C = 0.0625, SV# = 326, test accuracy = 0.7439024390243902\n",
    "C = 0.125, SV# = 305, test accuracy = 0.9390243902439024\n",
    "C = 0.25, SV# = 241, test accuracy = 0.9390243902439024\n",
    "C = 0.5, SV# = 182, test accuracy = 0.9390243902439024\n",
    "C = 1.0, SV# = 138, test accuracy = 0.9512195121951219\n",
    "C = 2.0, SV# = 108, test accuracy = 0.975609756097561\n",
    "C = 4.0, SV# = 87, test accuracy = 0.9878048780487805\n",
    "C = 8.0, SV# = 75, test accuracy = 0.9878048780487805\n",
    "C = 16.0, SV# = 78, test accuracy = 0.9878048780487805\n",
    "\n",
    "|Polynomial kernel|&nbsp;|          \n",
    "|--|--|\n",
    "C = 0.0625, SV# = 138, test accuracy = 0.9634146341463414\n",
    "C = 0.125, SV# = 109, test accuracy = 0.9878048780487805\n",
    "C = 0.25, SV# = 87, test accuracy = 0.9878048780487805\n",
    "C = 0.5, SV# = 73, test accuracy = 0.975609756097561\n",
    "C = 1.0, SV# = 65, test accuracy = 0.975609756097561\n",
    "C = 2.0, SV# = 67, test accuracy = 0.975609756097561\n",
    "C = 4.0, SV# = 69, test accuracy = 0.975609756097561\n",
    "C = 8.0, SV# = 69, test accuracy = 0.975609756097561\n",
    "C = 16.0, SV# = 69, test accuracy = 0.975609756097561\n",
    "\n",
    "***\n",
    "\n",
    "## Task 3.4 Apply SVM on non-separable toy data\n",
    "\n",
    "**2 credits**\n",
    "\n",
    "Build classifiers with three kernels (linear, RBF, and polynomial) and apply them on a toy dataset. Then plot the support vectors together with other data points. Which one do you think has the best decision boundary?"
   ]
  },
  {
   "cell_type": "code",
   "execution_count": 14,
   "metadata": {},
   "outputs": [
    {
     "name": "stdout",
     "output_type": "stream",
     "text": [
      "toy_X (100, 2)\n",
      "toy_Y (100,)\n"
     ]
    },
    {
     "name": "stderr",
     "output_type": "stream",
     "text": [
      "C:\\Users\\cwixom\\AppData\\Local\\Continuum\\anaconda3\\lib\\site-packages\\sklearn\\svm\\base.py:196: FutureWarning: The default value of gamma will change from 'auto' to 'scale' in version 0.22 to account better for unscaled features. Set gamma explicitly to 'auto' or 'scale' to avoid this warning.\n",
      "  \"avoid this warning.\", FutureWarning)\n"
     ]
    },
    {
     "data": {
      "image/png": "[encoded data removed]",
      "text/plain": [
       "<Figure size 576x1728 with 3 Axes>"
      ]
     },
     "metadata": {
      "needs_background": "light"
     },
     "output_type": "display_data"
    }
   ],
   "source": [
    "toy_data = make_moons(noise=0.3, random_state=0)\n",
    "toy_X, toy_Y = toy_data\n",
    "\n",
    "print('toy_X', toy_X.shape)\n",
    "print('toy_Y', toy_Y.shape)\n",
    "\n",
    "    \n",
    "# Linear kernel \n",
    "### START TODO ###\n",
    "clf_toy = svm.SVC(kernel='linear')\n",
    "clf_toy.fit(toy_X, toy_Y)\n",
    "### END TODO ###\n",
    "\n",
    "fig = plt.figure(figsize=(8,24))\n",
    "fig.add_subplot(3, 1, 1)\n",
    "plt.scatter(toy_X[toy_Y==0,0], toy_X[toy_Y==0,1], c='salmon')\n",
    "plt.scatter(toy_X[toy_Y==1,0], toy_X[toy_Y==1,1], c='dodgerblue')\n",
    "### START TODO ###\n",
    "plt.scatter(toy_X[clf_toy.support_[0:clf_toy.n_support_[0]],0], toy_X[clf_toy.support_[0:clf_toy.n_support_[0]],1], c='darkred')\n",
    "plt.scatter(toy_X[clf_toy.support_[clf_toy.n_support_[0]:],0], toy_X[clf_toy.support_[clf_toy.n_support_[0]:],1], c='darkblue')\n",
    "\n",
    "### END TODO ###\n",
    "plt.title('Linear kernel')\n",
    "\n",
    "\n",
    "# RBF kernel\n",
    "### START TODO ###\n",
    "clf_toy2 = svm.SVC(kernel='linear')\n",
    "clf_toy2.fit(toy_X, toy_Y)\n",
    "### END TODO ###\n",
    "\n",
    "fig.add_subplot(3, 1, 2)\n",
    "plt.scatter(toy_X[toy_Y==0,0], toy_X[toy_Y==0,1], c='salmon')\n",
    "plt.scatter(toy_X[toy_Y==1,0], toy_X[toy_Y==1,1], c='dodgerblue')\n",
    "### START TODO ###\n",
    "plt.scatter(toy_X[clf_toy2.support_[0:clf_toy2.n_support_[0]],0], toy_X[clf_toy2.support_[0:clf_toy2.n_support_[0]],1], c='darkred')\n",
    "plt.scatter(toy_X[clf_toy2.support_[clf_toy2.n_support_[0]:],0], toy_X[clf_toy2.support_[clf_toy2.n_support_[0]:],1], c='darkblue')\n",
    "\n",
    "### END TODO ###\n",
    "plt.title('RBF kernel')\n",
    "\n",
    "\n",
    "# Polynomial kernel\n",
    "### START TODO ###\n",
    "clf_toy3 = svm.SVC(kernel='rbf')\n",
    "clf_toy3.fit(toy_X, toy_Y)\n",
    "### END TODO ###\n",
    "\n",
    "fig.add_subplot(3, 1, 3)\n",
    "plt.scatter(toy_X[toy_Y==0,0], toy_X[toy_Y==0,1], c='salmon')\n",
    "plt.scatter(toy_X[toy_Y==1,0], toy_X[toy_Y==1,1], c='dodgerblue')\n",
    "### START TODO ###\n",
    "plt.scatter(toy_X[clf_toy3.support_[0:clf_toy3.n_support_[0]],0], toy_X[clf_toy3.support_[0:clf_toy3.n_support_[0]],1], c='darkred')\n",
    "plt.scatter(toy_X[clf_toy3.support_[clf_toy3.n_support_[0]:],0], toy_X[clf_toy3.support_[clf_toy3.n_support_[0]:],1], c='darkblue')\n",
    "\n",
    "### END TODO ###\n",
    "plt.title('Polynomial kernel')\n",
    "\n",
    "\n",
    "plt.show()"
   ]
  },
  {
   "cell_type": "markdown",
   "metadata": {},
   "source": [
    "### Expected output\n",
    "<img src=\"toy_SVs.png\">\n",
    "\n",
    "Which one do you think has the best decision boundary?"
   ]
  }
 ],
 "metadata": {
  "kernelspec": {
   "display_name": "Python 3",
   "language": "python",
   "name": "python3"
  },
  "language_info": {
   "codemirror_mode": {
    "name": "ipython",
    "version": 3
   },
   "file_extension": ".py",
   "mimetype": "text/x-python",
   "name": "python",
   "nbconvert_exporter": "python",
   "pygments_lexer": "ipython3",
   "version": "3.6.5"
  }
 },
 "nbformat": 4,
 "nbformat_minor": 2
}
